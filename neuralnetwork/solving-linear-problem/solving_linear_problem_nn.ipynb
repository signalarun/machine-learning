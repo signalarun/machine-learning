{
  "nbformat": 4,
  "nbformat_minor": 0,
  "metadata": {
    "colab": {
      "name": "solving_linear_problem_nn.ipynb",
      "provenance": []
    },
    "kernelspec": {
      "name": "python3",
      "display_name": "Python 3"
    }
  },
  "cells": [
    {
      "cell_type": "markdown",
      "metadata": {
        "id": "k9SMVpwqJbFF",
        "colab_type": "text"
      },
      "source": [
        "\n",
        "# Solving linear problem with neural network\n",
        "  * Problem\n",
        "    - f=c×1.8+32\n",
        "    \n",
        "\n"
      ]
    },
    {
      "cell_type": "code",
      "metadata": {
        "id": "ywNPVffZJu0h",
        "colab_type": "code",
        "colab": {}
      },
      "source": [
        "import tensorflow as tf\n",
        "import numpy as np\n",
        "import logging\n",
        "\n",
        "logger = tf.get_logger()\n",
        "logger.setLevel(logging.ERROR)\n",
        "\n"
      ],
      "execution_count": 56,
      "outputs": []
    },
    {
      "cell_type": "markdown",
      "metadata": {
        "id": "xZmVVo1OKkhA",
        "colab_type": "text"
      },
      "source": [
        "## Setting up training data"
      ]
    },
    {
      "cell_type": "code",
      "metadata": {
        "id": "2Nej6Il7Kqoq",
        "colab_type": "code",
        "colab": {
          "base_uri": "https://localhost:8080/",
          "height": 178
        },
        "outputId": "8196c42a-51f2-4b31-a134-a32f2f09f882"
      },
      "source": [
        "c_d = np.array([-100, -35, -25, -15,  0,  20, 30, 35,  45],  dtype=float)\n",
        "f_d = np.array([-148, -31, -13,   5, 32,  68, 86, 95, 113],  dtype=float)\n",
        "\n",
        "for i,c in enumerate(c_d):\n",
        "  print(\"{} degrees Celsius = {} degrees Fahrenheit\".format(c, f_d[i]))"
      ],
      "execution_count": 57,
      "outputs": [
        {
          "output_type": "stream",
          "text": [
            "-100.0 degrees Celsius = -148.0 degrees Fahrenheit\n",
            "-35.0 degrees Celsius = -31.0 degrees Fahrenheit\n",
            "-25.0 degrees Celsius = -13.0 degrees Fahrenheit\n",
            "-15.0 degrees Celsius = 5.0 degrees Fahrenheit\n",
            "0.0 degrees Celsius = 32.0 degrees Fahrenheit\n",
            "20.0 degrees Celsius = 68.0 degrees Fahrenheit\n",
            "30.0 degrees Celsius = 86.0 degrees Fahrenheit\n",
            "35.0 degrees Celsius = 95.0 degrees Fahrenheit\n",
            "45.0 degrees Celsius = 113.0 degrees Fahrenheit\n"
          ],
          "name": "stdout"
        }
      ]
    },
    {
      "cell_type": "markdown",
      "metadata": {
        "id": "uED-dVpYqMDz",
        "colab_type": "text"
      },
      "source": [
        "## Layer creation\n",
        "  * units - indicated number of neurones in the layer\n",
        "  * input_shape - indicates dimension of input"
      ]
    },
    {
      "cell_type": "code",
      "metadata": {
        "id": "QcCMHOssqG62",
        "colab_type": "code",
        "colab": {}
      },
      "source": [
        "layer0 = tf.keras.layers.Dense(units=1, input_shape=[1])"
      ],
      "execution_count": 58,
      "outputs": []
    },
    {
      "cell_type": "markdown",
      "metadata": {
        "id": "FypNXr7iqrch",
        "colab_type": "text"
      },
      "source": [
        "## Assembling the created layers"
      ]
    },
    {
      "cell_type": "code",
      "metadata": {
        "id": "fkGDBkCSqvuu",
        "colab_type": "code",
        "colab": {}
      },
      "source": [
        "model = tf.keras.Sequential([layer0])"
      ],
      "execution_count": 59,
      "outputs": []
    },
    {
      "cell_type": "markdown",
      "metadata": {
        "id": "dlf95bb6rJwt",
        "colab_type": "text"
      },
      "source": [
        "* Loss function used is Mean Squared Error\n",
        "* optimizer used to adjust weights to reduce error is Adam"
      ]
    },
    {
      "cell_type": "code",
      "metadata": {
        "id": "SebCAzRkq9_-",
        "colab_type": "code",
        "colab": {}
      },
      "source": [
        "model.compile(loss='mean_squared_error',\n",
        "              optimizer=tf.keras.optimizers.Adam(0.1))"
      ],
      "execution_count": 60,
      "outputs": []
    },
    {
      "cell_type": "markdown",
      "metadata": {
        "id": "9MnLIXHZrcff",
        "colab_type": "text"
      },
      "source": [
        "## Model Training"
      ]
    },
    {
      "cell_type": "code",
      "metadata": {
        "id": "yolJH0LYrfvN",
        "colab_type": "code",
        "colab": {
          "base_uri": "https://localhost:8080/",
          "height": 35
        },
        "outputId": "2d8cd0f9-7669-4ab6-8446-1fc99ba30746"
      },
      "source": [
        "history = model.fit(c_d, f_d, epochs=650, verbose=False)\n",
        "print(\"Finished training the model\")"
      ],
      "execution_count": 61,
      "outputs": [
        {
          "output_type": "stream",
          "text": [
            "Finished training the model\n"
          ],
          "name": "stdout"
        }
      ]
    },
    {
      "cell_type": "markdown",
      "metadata": {
        "id": "A3lOnDq8r76U",
        "colab_type": "text"
      },
      "source": [
        "## Loss Vs Epoch"
      ]
    },
    {
      "cell_type": "code",
      "metadata": {
        "id": "_pAqeIWErvxY",
        "colab_type": "code",
        "colab": {
          "base_uri": "https://localhost:8080/",
          "height": 297
        },
        "outputId": "bb6cd1e2-0f36-4837-ed0c-aa41b735801b"
      },
      "source": [
        "import matplotlib.pyplot as plt\n",
        "plt.xlabel('Epoch Number')\n",
        "plt.ylabel(\"Loss Magnitude\")\n",
        "plt.plot(history.history['loss'])"
      ],
      "execution_count": 62,
      "outputs": [
        {
          "output_type": "execute_result",
          "data": {
            "text/plain": [
              "[<matplotlib.lines.Line2D at 0x7f8a148848d0>]"
            ]
          },
          "metadata": {
            "tags": []
          },
          "execution_count": 62
        },
        {
          "output_type": "display_data",
          "data": {
            "image/png": "[encoded data removed]",
            "text/plain": [
              "<Figure size 432x288 with 1 Axes>"
            ]
          },
          "metadata": {
            "tags": [],
            "needs_background": "light"
          }
        }
      ]
    },
    {
      "cell_type": "markdown",
      "metadata": {
        "id": "WLHWn4misHq9",
        "colab_type": "text"
      },
      "source": [
        "## Prediction with trained model"
      ]
    },
    {
      "cell_type": "code",
      "metadata": {
        "id": "Z3ZCPq6WsNQH",
        "colab_type": "code",
        "colab": {
          "base_uri": "https://localhost:8080/",
          "height": 35
        },
        "outputId": "a08aae49-b47a-49e1-cf44-0db74a3a2c52"
      },
      "source": [
        "print(model.predict([100.0]))"
      ],
      "execution_count": 63,
      "outputs": [
        {
          "output_type": "stream",
          "text": [
            "[[211.07196]]\n"
          ],
          "name": "stdout"
        }
      ]
    }
  ]
}
